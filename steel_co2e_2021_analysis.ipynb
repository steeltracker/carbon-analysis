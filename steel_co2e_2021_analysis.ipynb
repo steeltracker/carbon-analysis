{
 "cells": [
  {
   "cell_type": "markdown",
   "metadata": {},
   "source": [
    "## Production Amounts and Scope 1 and 2 Emission Values Per EAF Plant in the United States"
   ]
  },
  {
   "cell_type": "markdown",
   "metadata": {},
   "source": [
    "### Loading Libraries"
   ]
  },
  {
   "cell_type": "code",
   "execution_count": 23,
   "metadata": {},
   "outputs": [
    {
     "ename": "NameError",
     "evalue": "name 'notebook' is not defined",
     "output_type": "error",
     "traceback": [
      "\u001b[0;31m---------------------------------------------------------------------------\u001b[0m",
      "\u001b[0;31mNameError\u001b[0m                                 Traceback (most recent call last)",
      "\u001b[1;32m/Users/mikey/Desktop/meds-courses/capstone-files/carbon-analysis/steel_co2e_2021_analysis.ipynb Cell 3\u001b[0m in \u001b[0;36m<cell line: 5>\u001b[0;34m()\u001b[0m\n\u001b[1;32m      <a href='vscode-notebook-cell:/Users/mikey/Desktop/meds-courses/capstone-files/carbon-analysis/steel_co2e_2021_analysis.ipynb#W2sZmlsZQ%3D%3D?line=1'>2</a>\u001b[0m \u001b[39mimport\u001b[39;00m \u001b[39mnumpy\u001b[39;00m \u001b[39mas\u001b[39;00m \u001b[39mnp\u001b[39;00m\n\u001b[1;32m      <a href='vscode-notebook-cell:/Users/mikey/Desktop/meds-courses/capstone-files/carbon-analysis/steel_co2e_2021_analysis.ipynb#W2sZmlsZQ%3D%3D?line=2'>3</a>\u001b[0m \u001b[39mimport\u001b[39;00m \u001b[39mjanitor\u001b[39;00m\n\u001b[0;32m----> <a href='vscode-notebook-cell:/Users/mikey/Desktop/meds-courses/capstone-files/carbon-analysis/steel_co2e_2021_analysis.ipynb#W2sZmlsZQ%3D%3D?line=4'>5</a>\u001b[0m notebook\u001b[39m.\u001b[39moutput\u001b[39m.\u001b[39mtextLineLimit: \u001b[39m500\u001b[39m\n",
      "\u001b[0;31mNameError\u001b[0m: name 'notebook' is not defined"
     ]
    }
   ],
   "source": [
    "import pandas as pd\n",
    "import numpy as np\n",
    "import janitor"
   ]
  },
  {
   "cell_type": "markdown",
   "metadata": {},
   "source": [
    "### Importing eGrid Data\n",
    "\n",
    "The EPA eGrida Data, which was available for 2021 at the time of download, contains the emissions intensity of electricity produced in each sub region. For this analysis, we assume that each steel plant is drawing 100% of its electricity from the grid (and the eGrid subregion that it is located within)."
   ]
  },
  {
   "cell_type": "code",
   "execution_count": 46,
   "metadata": {},
   "outputs": [],
   "source": [
    "## Importing grid region electricity values\n",
    "egrid2021_data = pd.read_excel('../data/eGRID2021_data.xlsx', sheet_name = \"SRL21\").clean_names(strip_underscores = True).drop(0)"
   ]
  },
  {
   "cell_type": "markdown",
   "metadata": {},
   "source": [
    "### Standardizing state names and cleaning up rows in eGrid data"
   ]
  },
  {
   "cell_type": "code",
   "execution_count": 47,
   "metadata": {},
   "outputs": [],
   "source": [
    "## Cleaning egrid data for usability\n",
    "emissions_by_subregion = egrid2021_data.copy()\n",
    "\n",
    "emissions_by_subregion[\"co2e_lbs_per_mwh\"] = pd.to_numeric(emissions_by_subregion[\"egrid_subregion_annual_co2_equivalent_combustion_output_emission_rate_lb_mwh\"])\n",
    "emissions_by_subregion['subregion'] = emissions_by_subregion['egrid_subregion_acronym']\n",
    "emissions_by_subregion['subregion_name'] = emissions_by_subregion['egrid_subregion_name']\n",
    "emissions_by_subregion['co2e_tonnes_per_mwh'] = emissions_by_subregion['co2e_lbs_per_mwh'] / 2204.62262185\n",
    "\n",
    "# Filtering subregions\n",
    "excluded_subregions = [\"AKGD\", \"AKMS\", \"HIMS\", \"HIOA\", \"PRMS\"]\n",
    "emissions_by_subregion = emissions_by_subregion[~emissions_by_subregion['subregion'].isin(excluded_subregions)]\n",
    "\n",
    "# Selecting desired columns\n",
    "emissions_by_subregion = emissions_by_subregion[['subregion', 'subregion_name', 'co2e_tonnes_per_mwh']]"
   ]
  },
  {
   "cell_type": "markdown",
   "metadata": {},
   "source": [
    "### Importing GEM data"
   ]
  },
  {
   "cell_type": "code",
   "execution_count": 51,
   "metadata": {},
   "outputs": [],
   "source": [
    "gem_data_readin = pd.read_excel(\"../data/GEM_2022_data.xlsx\", sheet_name = \"Steel Plants\").clean_names(strip_underscores = True)"
   ]
  },
  {
   "cell_type": "markdown",
   "metadata": {},
   "source": [
    "### Filtering to only look at plants and data that we are interested in"
   ]
  },
  {
   "cell_type": "code",
   "execution_count": 62,
   "metadata": {},
   "outputs": [
    {
     "data": {
      "text/plain": [
       "'\"\\n  filter(country == \"United States\"\\n          %>% \\n  mutate(plant_name = plant_name_english\\n         , state = subnational_unit_province_state\\n         , eaf_capacity = as.numeric(nominal_eaf_steel_capacity_ttpa)\\n         , address = location_address\\n         , max_tonnes_of_steel_producible_annually = eaf_capacity * 1000) %>%\\n  select(-eaf_capacity) %>% \\n  select(plant_id\\n         , plant_name\\n         , owner\\n         , coordinates\\n         , country\\n         , state\\n         , status\\n         , start_date\\n         , plant_age_years\\n         , max_tonnes_of_steel_producible_annually\\n         , municipality\\n         , address\\n         , category_steel_product\\n         , steel_products\\n         , responsible_steel_certification)\\n\\n## Only selecting columns we need\\ngem_data <- gem_data_cleaned %>% \\n  select(-c(country\\n         , start_date\\n         , status\\n         , responsible_steel_certification)) %>% \\n  separate(coordinates, c(\"lat\", \"lon\"), remove = TRUE, \",\")\\n\\n'"
      ]
     },
     "execution_count": 62,
     "metadata": {},
     "output_type": "execute_result"
    }
   ],
   "source": [
    "## eaf_capacity is in thousand tonnes per year and we are standardizing to tonnes\n",
    "gem_data_cleaned = gem_data_readin.copy()\n",
    "\n",
    "## Filtering to the specifications we need\n",
    "gem_data_cleaned = gem_data_cleaned[\n",
    "       (gem_data_cleaned['country'] == \"United States\") &\n",
    "       (gem_data_cleaned[\"status\"] == \"operating\") &\n",
    "       (gem_data_cleaned['nominal_eaf_steel_capacity_ttpa'] != \"NaN\")\n",
    "]\n",
    "\n",
    "## Needed to do this in another step to make sure start_date was properly filtered\n",
    "gem_data_cleaned = gem_data_cleaned[\n",
    "       (gem_data_cleaned['start_date'] < 2022) &\n",
    "       (~gem_data_cleaned['plant_id'].isin([\"SUS00009\", \"SUS00061\"]))\n",
    "]\n",
    "\n",
    "\"\"\"\"\n",
    "mutate(plant_name = plant_name_english\n",
    "         , state = subnational_unit_province_state\n",
    "         , eaf_capacity = as.numeric(nominal_eaf_steel_capacity_ttpa)\n",
    "         , address = location_address\n",
    "         , max_tonnes_of_steel_producible_annually = eaf_capacity * 1000) %>%\n",
    "  select(-eaf_capacity) %>% \n",
    "  select(plant_id\n",
    "         , plant_name\n",
    "         , owner\n",
    "         , coordinates\n",
    "         , country\n",
    "         , state\n",
    "         , status\n",
    "         , start_date\n",
    "         , plant_age_years\n",
    "         , max_tonnes_of_steel_producible_annually\n",
    "         , municipality\n",
    "         , address\n",
    "         , category_steel_product\n",
    "         , steel_products\n",
    "         , responsible_steel_certification)\n",
    "\n",
    "## Only selecting columns we need\n",
    "gem_data <- gem_data_cleaned %>% \n",
    "  select(-c(country\n",
    "         , start_date\n",
    "         , status\n",
    "         , responsible_steel_certification)) %>% \n",
    "  separate(coordinates, c(\"lat\", \"lon\"), remove = TRUE, \",\")\n",
    "\n",
    "\"\"\""
   ]
  },
  {
   "cell_type": "markdown",
   "metadata": {},
   "source": []
  }
 ],
 "metadata": {
  "kernelspec": {
   "display_name": "Python 3.10.5 ('mikeys_env')",
   "language": "python",
   "name": "python3"
  },
  "language_info": {
   "codemirror_mode": {
    "name": "ipython",
    "version": 3
   },
   "file_extension": ".py",
   "mimetype": "text/x-python",
   "name": "python",
   "nbconvert_exporter": "python",
   "pygments_lexer": "ipython3",
   "version": "3.10.5"
  },
  "orig_nbformat": 4,
  "vscode": {
   "interpreter": {
    "hash": "579423154b4eaee7bfe5a430418673f411175c3f3abce33f4969df0aa8270f69"
   }
  }
 },
 "nbformat": 4,
 "nbformat_minor": 2
}
